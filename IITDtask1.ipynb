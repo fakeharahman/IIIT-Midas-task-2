{
  "nbformat": 4,
  "nbformat_minor": 0,
  "metadata": {
    "colab": {
      "name": "IITDtask1",
      "provenance": [],
      "collapsed_sections": [],
      "toc_visible": true,
      "authorship_tag": "ABX9TyNGAlg07t4XTR0W9acNxkMy",
      "include_colab_link": true
    },
    "kernelspec": {
      "name": "python3",
      "display_name": "Python 3"
    },
    "language_info": {
      "name": "python"
    },
    "accelerator": "GPU"
  },
  "cells": [
    {
      "cell_type": "markdown",
      "metadata": {
        "id": "view-in-github",
        "colab_type": "text"
      },
      "source": [
        "<a href=\"https://colab.research.google.com/github/fakeharahman/IIIT-Midas-task-2/blob/main/IITDtask1.ipynb\" target=\"_parent\"><img src=\"https://colab.research.google.com/assets/colab-badge.svg\" alt=\"Open In Colab\"/></a>"
      ]
    },
    {
      "cell_type": "markdown",
      "metadata": {
        "id": "Nn-ZEcGzEGaP"
      },
      "source": [
        "\n",
        "#MIDAS Task 1\n",
        "\n",
        "Here we are going to train a CNN on the given dataset. Below, we import the required libraries."
      ]
    },
    {
      "cell_type": "code",
      "metadata": {
        "id": "mt91eLkrNq1j"
      },
      "source": [
        "import numpy as np\n",
        "import pandas as pd\n",
        "import cv2\n",
        "import matplotlib.pyplot as plt\n",
        "import tensorflow as tf\n",
        "import os\n",
        "from glob import glob\n",
        "import keras\n",
        "from keras.layers import Conv2D, MaxPooling2D, Dense, Flatten, Dropout, BatchNormalization\n",
        "from keras.models import Sequential, Model\n",
        "from keras.preprocessing.image import ImageDataGenerator, load_img\n",
        "from tensorflow.keras.callbacks import ModelCheckpoint, EarlyStopping\n",
        "from livelossplot.tf_keras import PlotLossesCallback\n",
        "%matplotlib inline"
      ],
      "execution_count": 1,
      "outputs": []
    },
    {
      "cell_type": "markdown",
      "metadata": {
        "id": "fYQrjQO-OmIy"
      },
      "source": [
        "The image size is taken as 224*224. That is so that the image queality is not too reduced."
      ]
    },
    {
      "cell_type": "code",
      "metadata": {
        "colab": {
          "base_uri": "https://localhost:8080/"
        },
        "id": "4KUIMiT0hSBQ",
        "outputId": "920b4d02-35d9-4459-d688-61517844428e"
      },
      "source": [
        "pip install livelossplot"
      ],
      "execution_count": 4,
      "outputs": [
        {
          "output_type": "stream",
          "text": [
            "Collecting livelossplot\n",
            "  Downloading https://files.pythonhosted.org/packages/57/26/840be243088ce142d61c60273408ec09fa1de4534056a56d6e91b73f0cae/livelossplot-0.5.4-py3-none-any.whl\n",
            "Requirement already satisfied: bokeh in /usr/local/lib/python3.7/dist-packages (from livelossplot) (2.3.0)\n",
            "Requirement already satisfied: ipython in /usr/local/lib/python3.7/dist-packages (from livelossplot) (5.5.0)\n",
            "Requirement already satisfied: matplotlib in /usr/local/lib/python3.7/dist-packages (from livelossplot) (3.2.2)\n",
            "Requirement already satisfied: pillow>=7.1.0 in /usr/local/lib/python3.7/dist-packages (from bokeh->livelossplot) (7.1.2)\n",
            "Requirement already satisfied: Jinja2>=2.7 in /usr/local/lib/python3.7/dist-packages (from bokeh->livelossplot) (2.11.3)\n",
            "Requirement already satisfied: numpy>=1.11.3 in /usr/local/lib/python3.7/dist-packages (from bokeh->livelossplot) (1.19.5)\n",
            "Requirement already satisfied: PyYAML>=3.10 in /usr/local/lib/python3.7/dist-packages (from bokeh->livelossplot) (3.13)\n",
            "Requirement already satisfied: typing-extensions>=3.7.4 in /usr/local/lib/python3.7/dist-packages (from bokeh->livelossplot) (3.7.4.3)\n",
            "Requirement already satisfied: packaging>=16.8 in /usr/local/lib/python3.7/dist-packages (from bokeh->livelossplot) (20.9)\n",
            "Requirement already satisfied: tornado>=5.1 in /usr/local/lib/python3.7/dist-packages (from bokeh->livelossplot) (5.1.1)\n",
            "Requirement already satisfied: python-dateutil>=2.1 in /usr/local/lib/python3.7/dist-packages (from bokeh->livelossplot) (2.8.1)\n",
            "Requirement already satisfied: prompt-toolkit<2.0.0,>=1.0.4 in /usr/local/lib/python3.7/dist-packages (from ipython->livelossplot) (1.0.18)\n",
            "Requirement already satisfied: traitlets>=4.2 in /usr/local/lib/python3.7/dist-packages (from ipython->livelossplot) (5.0.5)\n",
            "Requirement already satisfied: pickleshare in /usr/local/lib/python3.7/dist-packages (from ipython->livelossplot) (0.7.5)\n",
            "Requirement already satisfied: pexpect; sys_platform != \"win32\" in /usr/local/lib/python3.7/dist-packages (from ipython->livelossplot) (4.8.0)\n",
            "Requirement already satisfied: pygments in /usr/local/lib/python3.7/dist-packages (from ipython->livelossplot) (2.6.1)\n",
            "Requirement already satisfied: setuptools>=18.5 in /usr/local/lib/python3.7/dist-packages (from ipython->livelossplot) (54.2.0)\n",
            "Requirement already satisfied: simplegeneric>0.8 in /usr/local/lib/python3.7/dist-packages (from ipython->livelossplot) (0.8.1)\n",
            "Requirement already satisfied: decorator in /usr/local/lib/python3.7/dist-packages (from ipython->livelossplot) (4.4.2)\n",
            "Requirement already satisfied: kiwisolver>=1.0.1 in /usr/local/lib/python3.7/dist-packages (from matplotlib->livelossplot) (1.3.1)\n",
            "Requirement already satisfied: pyparsing!=2.0.4,!=2.1.2,!=2.1.6,>=2.0.1 in /usr/local/lib/python3.7/dist-packages (from matplotlib->livelossplot) (2.4.7)\n",
            "Requirement already satisfied: cycler>=0.10 in /usr/local/lib/python3.7/dist-packages (from matplotlib->livelossplot) (0.10.0)\n",
            "Requirement already satisfied: MarkupSafe>=0.23 in /usr/local/lib/python3.7/dist-packages (from Jinja2>=2.7->bokeh->livelossplot) (1.1.1)\n",
            "Requirement already satisfied: six>=1.5 in /usr/local/lib/python3.7/dist-packages (from python-dateutil>=2.1->bokeh->livelossplot) (1.15.0)\n",
            "Requirement already satisfied: wcwidth in /usr/local/lib/python3.7/dist-packages (from prompt-toolkit<2.0.0,>=1.0.4->ipython->livelossplot) (0.2.5)\n",
            "Requirement already satisfied: ipython-genutils in /usr/local/lib/python3.7/dist-packages (from traitlets>=4.2->ipython->livelossplot) (0.2.0)\n",
            "Requirement already satisfied: ptyprocess>=0.5 in /usr/local/lib/python3.7/dist-packages (from pexpect; sys_platform != \"win32\"->ipython->livelossplot) (0.7.0)\n",
            "Installing collected packages: livelossplot\n",
            "Successfully installed livelossplot-0.5.4\n"
          ],
          "name": "stdout"
        }
      ]
    },
    {
      "cell_type": "code",
      "metadata": {
        "id": "KElVNFDQN7qV"
      },
      "source": [
        "imageSize=[224, 224]\n",
        "path=\"train\""
      ],
      "execution_count": 2,
      "outputs": []
    },
    {
      "cell_type": "code",
      "metadata": {
        "id": "u_Ax7WegRICY",
        "colab": {
          "base_uri": "https://localhost:8080/"
        },
        "outputId": "dcd57ccf-c5e4-49d8-dc52-20a42ef691a5"
      },
      "source": [
        "from zipfile import ZipFile\n",
        "file_name = \"trainPart1.zip\"\n",
        "\n",
        "with ZipFile(file_name, 'r') as zip:\n",
        "  zip.extractall()\n",
        "  print('Done')"
      ],
      "execution_count": 11,
      "outputs": [
        {
          "output_type": "stream",
          "text": [
            "Done\n"
          ],
          "name": "stdout"
        }
      ]
    },
    {
      "cell_type": "markdown",
      "metadata": {
        "id": "xybL49y9E1E3"
      },
      "source": [
        "##Building the model\n",
        "\n",
        "I have chosen the model to have 3 convolutional layers, 2 dense layers and one output layer. The model has been borrowed from LeNets and then has been finetuned to the needs of this dataset. The dropout have been added to reduce overfitting. The output layer is of size 62 since that is the number of categories we have.\n",
        "\n",
        "I have taken the kernel size to be 3 x 3 beccuase it gives better results and takes less computational power. Increasing the depth of the network did not give better results. I have taken the activation function as relu as it gives better results than other activation functions."
      ]
    },
    {
      "cell_type": "code",
      "metadata": {
        "colab": {
          "base_uri": "https://localhost:8080/"
        },
        "id": "OxzfNuXnRi7h",
        "outputId": "11373b3d-b01b-4498-ed87-09598ab2e7e6"
      },
      "source": [
        "model=Sequential()\n",
        "model.add(Conv2D(64, kernel_size=(3,3), activation=\"relu\", input_shape=imageSize+[1]))\n",
        "model.add(MaxPooling2D(pool_size=(2,2)))\n",
        "model.add(Dropout(0.25))\n",
        "model.add(Conv2D(48, kernel_size=(3,3), activation=\"relu\"))\n",
        "model.add(MaxPooling2D(pool_size=(2,2)))\n",
        "model.add(Dropout(0.25))\n",
        "model.add(Conv2D(64, kernel_size=(3,3), activation=\"relu\"))\n",
        "model.add(MaxPooling2D(pool_size=(2,2)))\n",
        "model.add(Dropout(0.25))\n",
        "model.add(Flatten())\n",
        "model.add(Dense(160, activation=\"relu\"))\n",
        "model.add(Dropout(0.5))\n",
        "model.add(Dense(84, activation=\"relu\"))\n",
        "model.add(Dropout(0.5))\n",
        "model.add(Dense(62, activation=\"softmax\"))\n",
        "model.summary()\n"
      ],
      "execution_count": 3,
      "outputs": [
        {
          "output_type": "stream",
          "text": [
            "Model: \"sequential\"\n",
            "_________________________________________________________________\n",
            "Layer (type)                 Output Shape              Param #   \n",
            "=================================================================\n",
            "conv2d (Conv2D)              (None, 222, 222, 64)      640       \n",
            "_________________________________________________________________\n",
            "max_pooling2d (MaxPooling2D) (None, 111, 111, 64)      0         \n",
            "_________________________________________________________________\n",
            "dropout (Dropout)            (None, 111, 111, 64)      0         \n",
            "_________________________________________________________________\n",
            "conv2d_1 (Conv2D)            (None, 109, 109, 48)      27696     \n",
            "_________________________________________________________________\n",
            "max_pooling2d_1 (MaxPooling2 (None, 54, 54, 48)        0         \n",
            "_________________________________________________________________\n",
            "dropout_1 (Dropout)          (None, 54, 54, 48)        0         \n",
            "_________________________________________________________________\n",
            "conv2d_2 (Conv2D)            (None, 52, 52, 64)        27712     \n",
            "_________________________________________________________________\n",
            "max_pooling2d_2 (MaxPooling2 (None, 26, 26, 64)        0         \n",
            "_________________________________________________________________\n",
            "dropout_2 (Dropout)          (None, 26, 26, 64)        0         \n",
            "_________________________________________________________________\n",
            "flatten (Flatten)            (None, 43264)             0         \n",
            "_________________________________________________________________\n",
            "dense (Dense)                (None, 160)               6922400   \n",
            "_________________________________________________________________\n",
            "dropout_3 (Dropout)          (None, 160)               0         \n",
            "_________________________________________________________________\n",
            "dense_1 (Dense)              (None, 84)                13524     \n",
            "_________________________________________________________________\n",
            "dropout_4 (Dropout)          (None, 84)                0         \n",
            "_________________________________________________________________\n",
            "dense_2 (Dense)              (None, 62)                5270      \n",
            "=================================================================\n",
            "Total params: 6,997,242\n",
            "Trainable params: 6,997,242\n",
            "Non-trainable params: 0\n",
            "_________________________________________________________________\n"
          ],
          "name": "stdout"
        }
      ]
    },
    {
      "cell_type": "markdown",
      "metadata": {
        "id": "nkKFqv98F7rJ"
      },
      "source": [
        "Below, I have compiled the model using the optimizer adam and the metrics of calculation is acceracy."
      ]
    },
    {
      "cell_type": "code",
      "metadata": {
        "id": "sTxpyQD2RlFw"
      },
      "source": [
        "model.compile(loss=\"categorical_crossentropy\", optimizer=\"adam\", metrics=[\"accuracy\"])\n",
        "\n"
      ],
      "execution_count": 4,
      "outputs": []
    },
    {
      "cell_type": "markdown",
      "metadata": {
        "id": "BY8BSFf8GUKJ"
      },
      "source": [
        "##Preprocessing the data\n",
        "\n",
        "We divide the data into two parts, the validation data and the training data. the below code will automatically divide the dataset into two where 14% of the data will go to the validation dataset. Below we increase our dataset by sligtly changing the input image. Then we create the dataset by specifying the target size, the class mode, color mode, etc. \n",
        "\n",
        "The flow_from_directory here will return a dataset that yeilds batches of images from the subdirectory. The labels will be numbered from 0 to n where n is the number of subdirectories. We use this because our data is divided into sub directories."
      ]
    },
    {
      "cell_type": "code",
      "metadata": {
        "colab": {
          "base_uri": "https://localhost:8080/"
        },
        "id": "4r3OeqEfRpgG",
        "outputId": "188e121a-f88e-426a-e19b-87d048471c7c"
      },
      "source": [
        "image_generator = ImageDataGenerator(rescale=1/255, validation_split=0.14,shear_range=0.2, zoom_range=0.2, horizontal_flip=True)    \n",
        "train_dataset = image_generator.flow_from_directory(\n",
        "                                                 directory=path,\n",
        "                                                 shuffle=True,\n",
        "                                                 target_size=(224, 224), \n",
        "                                                  color_mode=\"grayscale\",\n",
        "                                                 subset=\"training\",\n",
        "                                                 class_mode='categorical')\n",
        "\n",
        "validation_dataset = image_generator.flow_from_directory(\n",
        "                                                 directory=path,\n",
        "                                                         color_mode=\"grayscale\",\n",
        "                                                 shuffle=True,\n",
        "                                                 target_size=(224, 224), \n",
        "                                                 subset=\"validation\",\n",
        "                                                 class_mode='categorical')"
      ],
      "execution_count": 5,
      "outputs": [
        {
          "output_type": "stream",
          "text": [
            "Found 2170 images belonging to 62 classes.\n",
            "Found 310 images belonging to 62 classes.\n"
          ],
          "name": "stdout"
        }
      ]
    },
    {
      "cell_type": "markdown",
      "metadata": {
        "id": "5wakzNECHybQ"
      },
      "source": [
        "##Running the model on our data\n",
        "Here, we create our checkpoint and save the best weights in the given file. Then we run the model on the previosly created datasets. I have run the model on 25 epochs because the results do not improve on higher epochs."
      ]
    },
    {
      "cell_type": "code",
      "metadata": {
        "id": "b8FSjN4PRubQ",
        "colab": {
          "base_uri": "https://localhost:8080/",
          "height": 753
        },
        "outputId": "ab687154-4cff-41b6-9774-774d59de04b2"
      },
      "source": [
        "%%time\n",
        "\n",
        "chkpt = ModelCheckpoint(\"model_weights.h5\", monitor='val_loss',verbose=1, save_best_only=True, save_weights_only=True, mode='min')\n",
        "\n",
        "callbacks = [PlotLossesCallback(), chkpt]\n",
        "\n",
        "r=model.fit_generator(train_dataset, validation_data=validation_dataset, epochs=40, steps_per_epoch=len(train_dataset), validation_steps=len(validation_dataset), callbacks=callbacks)"
      ],
      "execution_count": 6,
      "outputs": [
        {
          "output_type": "display_data",
          "data": {
            "image/png": "[encoded data removed]",
            "text/plain": [
              "<Figure size 864x576 with 2 Axes>"
            ]
          },
          "metadata": {
            "tags": [],
            "needs_background": "light"
          }
        },
        {
          "output_type": "stream",
          "text": [
            "accuracy\n",
            "\ttraining         \t (min:    0.016, max:    0.497, cur:    0.493)\n",
            "\tvalidation       \t (min:    0.016, max:    0.532, cur:    0.519)\n",
            "Loss\n",
            "\ttraining         \t (min:    1.666, max:    4.211, cur:    1.666)\n",
            "\tvalidation       \t (min:    1.586, max:    4.127, cur:    1.586)\n",
            "\n",
            "Epoch 00040: val_loss improved from 1.60376 to 1.58626, saving model to model_weights.h5\n",
            "CPU times: user 35min 48s, sys: 1min 57s, total: 37min 46s\n",
            "Wall time: 33min 48s\n"
          ],
          "name": "stdout"
        }
      ]
    },
    {
      "cell_type": "markdown",
      "metadata": {
        "id": "jtJ5UduLIRiA"
      },
      "source": [
        "After running, our model gives back a graph of the changes thorough each epoch. <br>\n",
        "After 25 epochs, we get the trsining accuracy as 50.9% and the validation accuracy as 53.2%. The loss in training is 1.595 and the loss in validation is 1.789. <br>\n",
        "The graph increses slowly and then stabalizes."
      ]
    },
    {
      "cell_type": "code",
      "metadata": {
        "colab": {
          "base_uri": "https://localhost:8080/"
        },
        "id": "9LQ0KPDeB9bH",
        "outputId": "bc9e0f34-ad56-4890-eeec-bc7234f4c856"
      },
      "source": [
        "ev=model.evaluate(validation_dataset)"
      ],
      "execution_count": 7,
      "outputs": [
        {
          "output_type": "stream",
          "text": [
            "10/10 [==============================] - 6s 617ms/step - loss: 1.5859 - accuracy: 0.5484\n"
          ],
          "name": "stdout"
        }
      ]
    },
    {
      "cell_type": "code",
      "metadata": {
        "id": "7R1UqyE_n518"
      },
      "source": [
        ""
      ],
      "execution_count": null,
      "outputs": []
    }
  ]
}